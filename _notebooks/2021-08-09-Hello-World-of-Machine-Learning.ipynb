{
  "nbformat": 4,
  "nbformat_minor": 0,
  "metadata": {
    "colab": {
      "name": "2021-08-09-Hello-World-of-Machine-Learning.ipynb",
      "provenance": []
    },
    "kernelspec": {
      "name": "python3",
      "display_name": "Python 3"
    },
    "language_info": {
      "name": "python"
    }
  },
  "cells": [
    {
      "cell_type": "markdown",
      "metadata": {
        "id": "_9U0Ndo7filB"
      },
      "source": [
        "# \"Hello World of Machine Learning\"\n",
        "> \"This should be the first step if you're new to Machine Learning. We'll also load and understand our data.\"\n",
        "\n",
        "- toc: true\n",
        "- branch: master\n",
        "- badges: true\n",
        "- comments: true\n",
        "- author: Rishiraj Acharya\n",
        "- categories: [machine learning, data exploration]\n",
        "- image: images/nb/decisiontree.png\n",
        "- hide: false\n",
        "- search_exclude: false"
      ]
    },
    {
      "cell_type": "markdown",
      "metadata": {
        "id": "MEXcx1_AjBU2"
      },
      "source": [
        "# Introduction\n",
        "\n",
        "We will start at the very beginning: what exactly is “machine learning”, and how is it used in the real world? We’ll learn the answers to these questions and explore the basics of decision trees, as we start to build a strong foundation for some of the most cutting-edge techniques in data science.\n",
        "\n",
        "We’ll learn all about pandas, the primary tool used by data scientists for exploring and manipulating data. Then, we’ll use our new knowledge to examine a dataset of Chicken Tikka Masalas."
      ]
    },
    {
      "cell_type": "markdown",
      "metadata": {
        "id": "0AK0Hm3CmjhP"
      },
      "source": [
        "# Who's ML? I'll do you one better, why is ML?\n",
        "\n",
        "Let's pretend for a moment that there's a Chicken Tikka Masala cooking competition and we want to come up with a recipe that will get us the highest rating on a continuous 10-point scale. One approach would just be to use the recipe we have on hand and hope for the best but instead what if we put our newly acquired machine learning skills to the test. We can do this by finding hundreds, thousands or even millions of different Chicken Tikka Masala recipes and listing out all of their ingredients and corresponding Chicken Tikka Masala cooking competition ratings into a table like this where each row is a recipe and each column is the amount of ingredients in the given recipe."
      ]
    },
    {
      "cell_type": "code",
      "metadata": {
        "colab": {
          "base_uri": "https://localhost:8080/",
          "height": 237
        },
        "id": "rINYCDkP8yPS",
        "outputId": "90bcfede-93a2-4a4a-8659-aa481e8721f0"
      },
      "source": [
        "tikkas"
      ],
      "execution_count": 7,
      "outputs": [
        {
          "output_type": "execute_result",
          "data": {
            "text/html": [
              "<div>\n",
              "<style scoped>\n",
              "    .dataframe tbody tr th:only-of-type {\n",
              "        vertical-align: middle;\n",
              "    }\n",
              "\n",
              "    .dataframe tbody tr th {\n",
              "        vertical-align: top;\n",
              "    }\n",
              "\n",
              "    .dataframe thead th {\n",
              "        text-align: right;\n",
              "    }\n",
              "</style>\n",
              "<table border=\"1\" class=\"dataframe\">\n",
              "  <thead>\n",
              "    <tr style=\"text-align: right;\">\n",
              "      <th></th>\n",
              "      <th>Rating</th>\n",
              "      <th>Chicken</th>\n",
              "      <th>Ginger</th>\n",
              "      <th>Garlic</th>\n",
              "      <th>Onion</th>\n",
              "      <th>Tomato</th>\n",
              "      <th>Garam Masala</th>\n",
              "      <th>Salt</th>\n",
              "      <th>Cream</th>\n",
              "    </tr>\n",
              "  </thead>\n",
              "  <tbody>\n",
              "    <tr>\n",
              "      <th>0</th>\n",
              "      <td>8.5</td>\n",
              "      <td>2.25</td>\n",
              "      <td>2</td>\n",
              "      <td>2</td>\n",
              "      <td>2.0</td>\n",
              "      <td>4</td>\n",
              "      <td>1</td>\n",
              "      <td>1.0</td>\n",
              "      <td>2</td>\n",
              "    </tr>\n",
              "    <tr>\n",
              "      <th>1</th>\n",
              "      <td>1.0</td>\n",
              "      <td>1.50</td>\n",
              "      <td>6</td>\n",
              "      <td>1</td>\n",
              "      <td>1.0</td>\n",
              "      <td>0</td>\n",
              "      <td>0</td>\n",
              "      <td>12.0</td>\n",
              "      <td>0</td>\n",
              "    </tr>\n",
              "    <tr>\n",
              "      <th>2</th>\n",
              "      <td>6.3</td>\n",
              "      <td>2.00</td>\n",
              "      <td>2</td>\n",
              "      <td>3</td>\n",
              "      <td>1.5</td>\n",
              "      <td>2</td>\n",
              "      <td>1</td>\n",
              "      <td>0.5</td>\n",
              "      <td>1</td>\n",
              "    </tr>\n",
              "    <tr>\n",
              "      <th>3</th>\n",
              "      <td>5.0</td>\n",
              "      <td>4.50</td>\n",
              "      <td>1</td>\n",
              "      <td>5</td>\n",
              "      <td>5.0</td>\n",
              "      <td>3</td>\n",
              "      <td>1</td>\n",
              "      <td>3.0</td>\n",
              "      <td>0</td>\n",
              "    </tr>\n",
              "    <tr>\n",
              "      <th>4</th>\n",
              "      <td>8.0</td>\n",
              "      <td>2.00</td>\n",
              "      <td>2</td>\n",
              "      <td>0</td>\n",
              "      <td>1.5</td>\n",
              "      <td>3</td>\n",
              "      <td>2</td>\n",
              "      <td>1.0</td>\n",
              "      <td>3</td>\n",
              "    </tr>\n",
              "    <tr>\n",
              "      <th>5</th>\n",
              "      <td>7.0</td>\n",
              "      <td>2.00</td>\n",
              "      <td>1</td>\n",
              "      <td>1</td>\n",
              "      <td>0.5</td>\n",
              "      <td>4</td>\n",
              "      <td>1</td>\n",
              "      <td>0.0</td>\n",
              "      <td>4</td>\n",
              "    </tr>\n",
              "  </tbody>\n",
              "</table>\n",
              "</div>"
            ],
            "text/plain": [
              "   Rating  Chicken  Ginger  Garlic  Onion  Tomato  Garam Masala  Salt  Cream\n",
              "0     8.5     2.25       2       2    2.0       4             1   1.0      2\n",
              "1     1.0     1.50       6       1    1.0       0             0  12.0      0\n",
              "2     6.3     2.00       2       3    1.5       2             1   0.5      1\n",
              "3     5.0     4.50       1       5    5.0       3             1   3.0      0\n",
              "4     8.0     2.00       2       0    1.5       3             2   1.0      3\n",
              "5     7.0     2.00       1       1    0.5       4             1   0.0      4"
            ]
          },
          "metadata": {
            "tags": []
          },
          "execution_count": 7
        }
      ]
    },
    {
      "cell_type": "markdown",
      "metadata": {
        "id": "3ovCmM5o8yrP"
      },
      "source": [
        "Then we could fit a decision tree model to this dataset and use it to help predict the best combination of ingredients in order to make the highest rated Chicken Tikka Masala. What we're hoping to accomplish by doing this is to use the model we build to uncover or explain the relationship between the inputs (Chicken Tikka Masala ingredients) and the output (Chicken Tikka Masala rating). A common pattern that you're going to see is that we:\n",
        "\n",
        "\n",
        "1.   Define a model\n",
        "2.   Fit a model\n",
        "3.   Make predictions\n",
        "4.   Validate our model\n",
        "\n",
        "\n",
        "When we define a model what you want to do is think to yourself, \"what model would I like to use?\" Of course, as you develop your machine learning skills, you'll have a wide array of models to choose from and you'll start to develop a sense as to which models will be best suited for any given task. If we want to think about this in more general terms we could abstractly represent a model using code that says `my_model = ModelName()`.\n",
        "\n",
        "Fitting a model is another way to refer to training a model and essentially what we're doing is we're taking the model that we've defined and we're applying that model to our dataset and we're asking it to start pulling out the underlying patterns in the data so an abstract code snippet for what fitting a model might look like is `my_model.fit(features, target)`.\n",
        "\n",
        "Making predictions is what happens once we've built a model and we want to generalize it or extend it or apply it to data that it has never seen before and I know it's kind of silly to talk about what a model sees since technically it's a piece of code and it doesn't have eyes but just roll on me on this one. A general way to write making predictions would be something like `my_model.predict(data)`."
      ]
    },
    {
      "cell_type": "markdown",
      "metadata": {
        "id": "Q2mp1bwjaW4q"
      },
      "source": [
        "# Data Exploration\n",
        "\n",
        "It's always good to know what you're getting into before you start something and one of the best ways to have an idea of what you're getting into is to ask a lot of questions. So let's think for a minute about our Chicken Tikka Masala problem, what we're trying to do is map a Chicken Tikka Masala recipe to its rating. So what we can hypothetically do is go out and collect all of this recipe data for Chicken Tikka Masalas and organize that data into something called a dataframe. Once we have our data organized into a dataframe we can begin to use some python code to ask and answer various questions about our data. Now you can ask almost an infinite number of questions but some of my favorite starting questions are things like, \"What are the names of the variables in my data?\", \"How many variables are in my dataframe?\", \"How many observations or rows are in my dataframe?\". I can also ask things like, \"What do the first few rows of my dataframe look like?\", \"Are there any missing values in my dataframe?\". I can even ask, \"What's the average value of a numerical variable within my dataframe?\".\n",
        "\n",
        "Let's try answering some of these questions on our Chicken Tikka Masala dataset by using the Pandas library. So for example if we want to know how many observations and variables or rows and columns are in our dataframe, we can use `tikkas.shape` to see that we have x rows and y columns."
      ]
    },
    {
      "cell_type": "code",
      "metadata": {
        "id": "mvPaTeEJ0Rpa"
      },
      "source": [
        "import pandas as pd\n",
        "tikkas = pd.read_csv(\"/content/tikka.csv\")"
      ],
      "execution_count": 1,
      "outputs": []
    },
    {
      "cell_type": "code",
      "metadata": {
        "colab": {
          "base_uri": "https://localhost:8080/"
        },
        "id": "xHqNrLi104oM",
        "outputId": "c3a9afbf-a7f9-4b07-f6b5-8638ac5617c0"
      },
      "source": [
        "# Question: how many rows and columns in tikkas?\n",
        "tikkas.shape\n",
        "\n",
        "# There are 6 rows and 9 columns in the tikkas dataframe"
      ],
      "execution_count": 2,
      "outputs": [
        {
          "output_type": "execute_result",
          "data": {
            "text/plain": [
              "(6, 9)"
            ]
          },
          "metadata": {
            "tags": []
          },
          "execution_count": 2
        }
      ]
    },
    {
      "cell_type": "markdown",
      "metadata": {
        "id": "SEzDaxi51mtX"
      },
      "source": [
        "To look at the names of the variables in our tikkas dataframe we can run `tikkas.columns`."
      ]
    },
    {
      "cell_type": "code",
      "metadata": {
        "colab": {
          "base_uri": "https://localhost:8080/"
        },
        "id": "S2w138s22H35",
        "outputId": "35d1cb10-55e8-467c-a4b0-9f22f26e4551"
      },
      "source": [
        "# Question: what are the names of my variables (columns)?\n",
        "tikkas.columns"
      ],
      "execution_count": 3,
      "outputs": [
        {
          "output_type": "execute_result",
          "data": {
            "text/plain": [
              "Index(['Rating', 'Chicken', 'Ginger', 'Garlic', 'Onion', 'Tomato',\n",
              "       'Garam Masala', 'Salt', 'Cream'],\n",
              "      dtype='object')"
            ]
          },
          "metadata": {
            "tags": []
          },
          "execution_count": 3
        }
      ]
    },
    {
      "cell_type": "markdown",
      "metadata": {
        "id": "NlGpOPk32pXX"
      },
      "source": [
        "And if we want to look at the first few rows of our dataframe, well then we can use `tikkas.head()`."
      ]
    },
    {
      "cell_type": "code",
      "metadata": {
        "colab": {
          "base_uri": "https://localhost:8080/",
          "height": 206
        },
        "id": "0vkJZMeC3P4t",
        "outputId": "c73e276d-3c3d-432a-edb6-67ab4c76804d"
      },
      "source": [
        "# Question: what do the first few rows of my dataframe contain?\n",
        "tikkas.head()"
      ],
      "execution_count": 4,
      "outputs": [
        {
          "output_type": "execute_result",
          "data": {
            "text/html": [
              "<div>\n",
              "<style scoped>\n",
              "    .dataframe tbody tr th:only-of-type {\n",
              "        vertical-align: middle;\n",
              "    }\n",
              "\n",
              "    .dataframe tbody tr th {\n",
              "        vertical-align: top;\n",
              "    }\n",
              "\n",
              "    .dataframe thead th {\n",
              "        text-align: right;\n",
              "    }\n",
              "</style>\n",
              "<table border=\"1\" class=\"dataframe\">\n",
              "  <thead>\n",
              "    <tr style=\"text-align: right;\">\n",
              "      <th></th>\n",
              "      <th>Rating</th>\n",
              "      <th>Chicken</th>\n",
              "      <th>Ginger</th>\n",
              "      <th>Garlic</th>\n",
              "      <th>Onion</th>\n",
              "      <th>Tomato</th>\n",
              "      <th>Garam Masala</th>\n",
              "      <th>Salt</th>\n",
              "      <th>Cream</th>\n",
              "    </tr>\n",
              "  </thead>\n",
              "  <tbody>\n",
              "    <tr>\n",
              "      <th>0</th>\n",
              "      <td>8.5</td>\n",
              "      <td>2.25</td>\n",
              "      <td>2</td>\n",
              "      <td>2</td>\n",
              "      <td>2.0</td>\n",
              "      <td>4</td>\n",
              "      <td>1</td>\n",
              "      <td>1.0</td>\n",
              "      <td>2</td>\n",
              "    </tr>\n",
              "    <tr>\n",
              "      <th>1</th>\n",
              "      <td>1.0</td>\n",
              "      <td>1.50</td>\n",
              "      <td>6</td>\n",
              "      <td>1</td>\n",
              "      <td>1.0</td>\n",
              "      <td>0</td>\n",
              "      <td>0</td>\n",
              "      <td>12.0</td>\n",
              "      <td>0</td>\n",
              "    </tr>\n",
              "    <tr>\n",
              "      <th>2</th>\n",
              "      <td>6.3</td>\n",
              "      <td>2.00</td>\n",
              "      <td>2</td>\n",
              "      <td>3</td>\n",
              "      <td>1.5</td>\n",
              "      <td>2</td>\n",
              "      <td>1</td>\n",
              "      <td>0.5</td>\n",
              "      <td>1</td>\n",
              "    </tr>\n",
              "    <tr>\n",
              "      <th>3</th>\n",
              "      <td>5.0</td>\n",
              "      <td>4.50</td>\n",
              "      <td>1</td>\n",
              "      <td>5</td>\n",
              "      <td>5.0</td>\n",
              "      <td>3</td>\n",
              "      <td>1</td>\n",
              "      <td>3.0</td>\n",
              "      <td>0</td>\n",
              "    </tr>\n",
              "    <tr>\n",
              "      <th>4</th>\n",
              "      <td>8.0</td>\n",
              "      <td>2.00</td>\n",
              "      <td>2</td>\n",
              "      <td>0</td>\n",
              "      <td>1.5</td>\n",
              "      <td>3</td>\n",
              "      <td>2</td>\n",
              "      <td>1.0</td>\n",
              "      <td>3</td>\n",
              "    </tr>\n",
              "  </tbody>\n",
              "</table>\n",
              "</div>"
            ],
            "text/plain": [
              "   Rating  Chicken  Ginger  Garlic  Onion  Tomato  Garam Masala  Salt  Cream\n",
              "0     8.5     2.25       2       2    2.0       4             1   1.0      2\n",
              "1     1.0     1.50       6       1    1.0       0             0  12.0      0\n",
              "2     6.3     2.00       2       3    1.5       2             1   0.5      1\n",
              "3     5.0     4.50       1       5    5.0       3             1   3.0      0\n",
              "4     8.0     2.00       2       0    1.5       3             2   1.0      3"
            ]
          },
          "metadata": {
            "tags": []
          },
          "execution_count": 4
        }
      ]
    },
    {
      "cell_type": "markdown",
      "metadata": {
        "id": "xoczA7wq3w4V"
      },
      "source": [
        "What if there's missing data? We can explore that by running `tikkas.isnull().sum()`."
      ]
    },
    {
      "cell_type": "code",
      "metadata": {
        "colab": {
          "base_uri": "https://localhost:8080/"
        },
        "id": "lLF2Yx8Z4KBh",
        "outputId": "c8698547-3199-4e94-97c9-c602a0d995b2"
      },
      "source": [
        "# Question: are there missing values in my dataframe?\n",
        "tikkas.isnull().sum()\n",
        "\n",
        "# There are no missing values in the tikkas dataframe"
      ],
      "execution_count": 5,
      "outputs": [
        {
          "output_type": "execute_result",
          "data": {
            "text/plain": [
              "Rating          0\n",
              "Chicken         0\n",
              "Ginger          0\n",
              "Garlic          0\n",
              "Onion           0\n",
              "Tomato          0\n",
              "Garam Masala    0\n",
              "Salt            0\n",
              "Cream           0\n",
              "dtype: int64"
            ]
          },
          "metadata": {
            "tags": []
          },
          "execution_count": 5
        }
      ]
    },
    {
      "cell_type": "markdown",
      "metadata": {
        "id": "knFCqmmx4fEi"
      },
      "source": [
        "We can also get a table with summary values by using `tikkas.describe()`."
      ]
    },
    {
      "cell_type": "code",
      "metadata": {
        "colab": {
          "base_uri": "https://localhost:8080/",
          "height": 300
        },
        "id": "k2DN5ruX6xSJ",
        "outputId": "c6177838-f073-461d-8550-07dc420b778c"
      },
      "source": [
        "# Question: what are the summary statistics for my dataframe?\n",
        "tikkas.describe()"
      ],
      "execution_count": 6,
      "outputs": [
        {
          "output_type": "execute_result",
          "data": {
            "text/html": [
              "<div>\n",
              "<style scoped>\n",
              "    .dataframe tbody tr th:only-of-type {\n",
              "        vertical-align: middle;\n",
              "    }\n",
              "\n",
              "    .dataframe tbody tr th {\n",
              "        vertical-align: top;\n",
              "    }\n",
              "\n",
              "    .dataframe thead th {\n",
              "        text-align: right;\n",
              "    }\n",
              "</style>\n",
              "<table border=\"1\" class=\"dataframe\">\n",
              "  <thead>\n",
              "    <tr style=\"text-align: right;\">\n",
              "      <th></th>\n",
              "      <th>Rating</th>\n",
              "      <th>Chicken</th>\n",
              "      <th>Ginger</th>\n",
              "      <th>Garlic</th>\n",
              "      <th>Onion</th>\n",
              "      <th>Tomato</th>\n",
              "      <th>Garam Masala</th>\n",
              "      <th>Salt</th>\n",
              "      <th>Cream</th>\n",
              "    </tr>\n",
              "  </thead>\n",
              "  <tbody>\n",
              "    <tr>\n",
              "      <th>count</th>\n",
              "      <td>6.000000</td>\n",
              "      <td>6.000000</td>\n",
              "      <td>6.000000</td>\n",
              "      <td>6.000000</td>\n",
              "      <td>6.000000</td>\n",
              "      <td>6.000000</td>\n",
              "      <td>6.000000</td>\n",
              "      <td>6.000000</td>\n",
              "      <td>6.000000</td>\n",
              "    </tr>\n",
              "    <tr>\n",
              "      <th>mean</th>\n",
              "      <td>5.966667</td>\n",
              "      <td>2.375000</td>\n",
              "      <td>2.333333</td>\n",
              "      <td>2.000000</td>\n",
              "      <td>1.916667</td>\n",
              "      <td>2.666667</td>\n",
              "      <td>1.000000</td>\n",
              "      <td>2.916667</td>\n",
              "      <td>1.666667</td>\n",
              "    </tr>\n",
              "    <tr>\n",
              "      <th>std</th>\n",
              "      <td>2.732520</td>\n",
              "      <td>1.069462</td>\n",
              "      <td>1.861899</td>\n",
              "      <td>1.788854</td>\n",
              "      <td>1.594261</td>\n",
              "      <td>1.505545</td>\n",
              "      <td>0.632456</td>\n",
              "      <td>4.565267</td>\n",
              "      <td>1.632993</td>\n",
              "    </tr>\n",
              "    <tr>\n",
              "      <th>min</th>\n",
              "      <td>1.000000</td>\n",
              "      <td>1.500000</td>\n",
              "      <td>1.000000</td>\n",
              "      <td>0.000000</td>\n",
              "      <td>0.500000</td>\n",
              "      <td>0.000000</td>\n",
              "      <td>0.000000</td>\n",
              "      <td>0.000000</td>\n",
              "      <td>0.000000</td>\n",
              "    </tr>\n",
              "    <tr>\n",
              "      <th>25%</th>\n",
              "      <td>5.325000</td>\n",
              "      <td>2.000000</td>\n",
              "      <td>1.250000</td>\n",
              "      <td>1.000000</td>\n",
              "      <td>1.125000</td>\n",
              "      <td>2.250000</td>\n",
              "      <td>1.000000</td>\n",
              "      <td>0.625000</td>\n",
              "      <td>0.250000</td>\n",
              "    </tr>\n",
              "    <tr>\n",
              "      <th>50%</th>\n",
              "      <td>6.650000</td>\n",
              "      <td>2.000000</td>\n",
              "      <td>2.000000</td>\n",
              "      <td>1.500000</td>\n",
              "      <td>1.500000</td>\n",
              "      <td>3.000000</td>\n",
              "      <td>1.000000</td>\n",
              "      <td>1.000000</td>\n",
              "      <td>1.500000</td>\n",
              "    </tr>\n",
              "    <tr>\n",
              "      <th>75%</th>\n",
              "      <td>7.750000</td>\n",
              "      <td>2.187500</td>\n",
              "      <td>2.000000</td>\n",
              "      <td>2.750000</td>\n",
              "      <td>1.875000</td>\n",
              "      <td>3.750000</td>\n",
              "      <td>1.000000</td>\n",
              "      <td>2.500000</td>\n",
              "      <td>2.750000</td>\n",
              "    </tr>\n",
              "    <tr>\n",
              "      <th>max</th>\n",
              "      <td>8.500000</td>\n",
              "      <td>4.500000</td>\n",
              "      <td>6.000000</td>\n",
              "      <td>5.000000</td>\n",
              "      <td>5.000000</td>\n",
              "      <td>4.000000</td>\n",
              "      <td>2.000000</td>\n",
              "      <td>12.000000</td>\n",
              "      <td>4.000000</td>\n",
              "    </tr>\n",
              "  </tbody>\n",
              "</table>\n",
              "</div>"
            ],
            "text/plain": [
              "         Rating   Chicken    Ginger  ...  Garam Masala       Salt     Cream\n",
              "count  6.000000  6.000000  6.000000  ...      6.000000   6.000000  6.000000\n",
              "mean   5.966667  2.375000  2.333333  ...      1.000000   2.916667  1.666667\n",
              "std    2.732520  1.069462  1.861899  ...      0.632456   4.565267  1.632993\n",
              "min    1.000000  1.500000  1.000000  ...      0.000000   0.000000  0.000000\n",
              "25%    5.325000  2.000000  1.250000  ...      1.000000   0.625000  0.250000\n",
              "50%    6.650000  2.000000  2.000000  ...      1.000000   1.000000  1.500000\n",
              "75%    7.750000  2.187500  2.000000  ...      1.000000   2.500000  2.750000\n",
              "max    8.500000  4.500000  6.000000  ...      2.000000  12.000000  4.000000\n",
              "\n",
              "[8 rows x 9 columns]"
            ]
          },
          "metadata": {
            "tags": []
          },
          "execution_count": 6
        }
      ]
    },
    {
      "cell_type": "markdown",
      "metadata": {
        "id": "ak8YoJk9B2l4"
      },
      "source": [
        "We've covered a ton of information related to the basic data exploration. I hope you've learned something in this blog post. I know I have and I've really enjoyed learning with you. So when you're ready meet me in the next post where we're going to build our first Machine Learning model."
      ]
    }
  ]
}
