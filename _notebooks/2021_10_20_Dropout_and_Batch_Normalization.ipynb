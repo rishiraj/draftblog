{
  "nbformat": 4,
  "nbformat_minor": 0,
  "metadata": {
    "colab": {
      "name": "2021-10-20-Dropout-and-Batch-Normalization.ipynb",
      "provenance": []
    },
    "kernelspec": {
      "name": "python3",
      "display_name": "Python 3"
    },
    "language_info": {
      "name": "python"
    },
    "accelerator": "GPU"
  },
  "cells": [
    {
      "cell_type": "markdown",
      "metadata": {
        "id": "gOfGrce4aysq"
      },
      "source": [
        "# \"Dropout and Batch Normalization\"\n",
        "> \"Add functionality using layers not containing any neurons themselves but benefiting a model in various ways.\"\n",
        "\n",
        "- toc: true\n",
        "- branch: master\n",
        "- badges: true\n",
        "- comments: true\n",
        "- author: Rishiraj Acharya\n",
        "- categories: [deep learning, regularization, normalization]\n",
        "- image: images/nb/dropout.gif\n",
        "- hide: false\n",
        "- search_exclude: false"
      ]
    },
    {
      "cell_type": "markdown",
      "metadata": {
        "id": "-NO0CHxqfqsg"
      },
      "source": [
        "# Introduction\n",
        "\n",
        "There's so much more to Chicken Biryani than just the chicken. Surely chicken plays the most important role, but the rice, the masala (and the potato if you're a Bengali) are important too. Similarly, in deep learning, there're layers apart from the dense layers that plays different important roles. Let's discuss two of them."
      ]
    },
    {
      "cell_type": "code",
      "metadata": {
        "id": "jthU6vPLEfLm"
      },
      "source": [
        "# Setup plotting\n",
        "import matplotlib.pyplot as plt\n",
        "plt.style.use('seaborn-whitegrid')\n",
        "\n",
        "# Set Matplotlib defaults\n",
        "plt.rc('figure', autolayout=True)\n",
        "plt.rc('axes', labelweight='bold', labelsize='large',\n",
        "       titleweight='bold', titlesize=18, titlepad=10)\n",
        "plt.rc('animation', html='html5')"
      ],
      "execution_count": 1,
      "outputs": []
    },
    {
      "cell_type": "markdown",
      "metadata": {
        "id": "YU4pQmowQa33"
      },
      "source": [
        "# Dropout\n",
        "\n",
        "Dropout is an important technique for regularization that only emerged recently, thanks to Geoffrey Hinton and works amazingly well. In deep learning we have one layer connecting to another layer and the values that go from one layer to the next are called activations. Dropout takes these activations and randomly set half of them to zero for every example we train our network on. Simply put, it iteratively takes half of the data that's flowing through our network and just drops it. Thus, our network can never rely on any given activation to be present because they might be dropped at any given iteration. So it is forced to learn a redundant representation for everything to make sure that at least some of the information remains. This makes the network robust and prevents overfitting all while making it act like taking an agreement of an ensemble of networks."
      ]
    },
    {
      "cell_type": "markdown",
      "metadata": {
        "id": "zJ79PzbKSmwC"
      },
      "source": [
        "## Load Dataset and Preprocess"
      ]
    },
    {
      "cell_type": "code",
      "metadata": {
        "colab": {
          "base_uri": "https://localhost:8080/"
        },
        "id": "ptNqK_i7FBsO",
        "outputId": "a4fdeaaf-6f5f-49fa-b38c-28ee02826d42"
      },
      "source": [
        "import pandas as pd\n",
        "from sklearn.preprocessing import StandardScaler, OneHotEncoder\n",
        "from sklearn.compose import make_column_transformer\n",
        "from sklearn.model_selection import GroupShuffleSplit\n",
        "\n",
        "from tensorflow import keras\n",
        "from tensorflow.keras import layers\n",
        "from tensorflow.keras import callbacks\n",
        "\n",
        "spotify = pd.read_csv('/content/spotify.csv')\n",
        "\n",
        "X = spotify.copy().dropna()\n",
        "y = X.pop('track_popularity')\n",
        "artists = X['track_artist']\n",
        "\n",
        "features_num = ['danceability', 'energy', 'key', 'loudness', 'mode',\n",
        "                'speechiness', 'acousticness', 'instrumentalness',\n",
        "                'liveness', 'valence', 'tempo', 'duration_ms']\n",
        "features_cat = ['playlist_genre']\n",
        "\n",
        "preprocessor = make_column_transformer(\n",
        "    (StandardScaler(), features_num),\n",
        "    (OneHotEncoder(), features_cat),\n",
        ")\n",
        "\n",
        "def group_split(X, y, group, train_size=0.75):\n",
        "    splitter = GroupShuffleSplit(train_size=train_size)\n",
        "    train, test = next(splitter.split(X, y, groups=group))\n",
        "    return (X.iloc[train], X.iloc[test], y.iloc[train], y.iloc[test])\n",
        "\n",
        "X_train, X_valid, y_train, y_valid = group_split(X, y, artists)\n",
        "\n",
        "X_train = preprocessor.fit_transform(X_train)\n",
        "X_valid = preprocessor.transform(X_valid)\n",
        "y_train = y_train / 100\n",
        "y_valid = y_valid / 100\n",
        "\n",
        "input_shape = [X_train.shape[1]]\n",
        "print(\"Input shape: {}\".format(input_shape))"
      ],
      "execution_count": 2,
      "outputs": [
        {
          "output_type": "stream",
          "name": "stdout",
          "text": [
            "Input shape: [18]\n"
          ]
        }
      ]
    },
    {
      "cell_type": "markdown",
      "metadata": {
        "id": "QvGPDhVsT2lU"
      },
      "source": [
        "## Define and fit the original Model"
      ]
    },
    {
      "cell_type": "code",
      "metadata": {
        "colab": {
          "base_uri": "https://localhost:8080/",
          "height": 314
        },
        "id": "NvTJluYSVTbW",
        "outputId": "be08dfdf-1109-4623-e39a-9b87734e866c"
      },
      "source": [
        "model = keras.Sequential([\n",
        "    layers.Dense(128, activation='relu', input_shape=input_shape),\n",
        "    layers.Dense(64, activation='relu'),\n",
        "    layers.Dense(1)\n",
        "])\n",
        "\n",
        "model.compile(\n",
        "    optimizer='adam',\n",
        "    loss='mae',\n",
        ")\n",
        "\n",
        "history = model.fit(\n",
        "    X_train, y_train,\n",
        "    validation_data=(X_valid, y_valid),\n",
        "    batch_size=512,\n",
        "    epochs=50,\n",
        "    verbose=0,\n",
        ")\n",
        "\n",
        "history_df = pd.DataFrame(history.history)\n",
        "history_df.loc[:, ['loss', 'val_loss']].plot()\n",
        "print(\"Minimum Validation Loss: {:0.4f}\".format(history_df['val_loss'].min()))"
      ],
      "execution_count": 3,
      "outputs": [
        {
          "output_type": "stream",
          "name": "stdout",
          "text": [
            "Minimum Validation Loss: 0.1922\n"
          ]
        },
        {
          "output_type": "display_data",
          "data": {
            "image/png": "[encoded data removed]",
            "text/plain": [
              "<Figure size 432x288 with 1 Axes>"
            ]
          },
          "metadata": {
            "needs_background": "light"
          }
        }
      ]
    },
    {
      "cell_type": "markdown",
      "metadata": {
        "id": "vsqyNKuSU3vo"
      },
      "source": [
        "## Define and fit the Model with Dropout"
      ]
    },
    {
      "cell_type": "code",
      "metadata": {
        "id": "Eo4UJUCJGL4H"
      },
      "source": [
        "# Adding two 30% dropout layers, one after 128 and one after 64\n",
        "model = keras.Sequential([\n",
        "    layers.Dense(128, activation='relu', input_shape=input_shape),\n",
        "    layers.Dropout(0.3),\n",
        "    layers.Dense(64, activation='relu'),\n",
        "    layers.Dropout(0.3),\n",
        "    layers.Dense(1)\n",
        "])"
      ],
      "execution_count": 4,
      "outputs": []
    },
    {
      "cell_type": "code",
      "metadata": {
        "colab": {
          "base_uri": "https://localhost:8080/",
          "height": 314
        },
        "id": "uebkuClQG6uk",
        "outputId": "efc500c6-cca7-4039-b10e-5cf4b40d06d9"
      },
      "source": [
        "model.compile(\n",
        "    optimizer='adam',\n",
        "    loss='mae',\n",
        ")\n",
        "\n",
        "history = model.fit(\n",
        "    X_train, y_train,\n",
        "    validation_data=(X_valid, y_valid),\n",
        "    batch_size=512,\n",
        "    epochs=50,\n",
        "    verbose=0,\n",
        ")\n",
        "\n",
        "history_df = pd.DataFrame(history.history)\n",
        "history_df.loc[:, ['loss', 'val_loss']].plot()\n",
        "print(\"Minimum Validation Loss: {:0.4f}\".format(history_df['val_loss'].min()))"
      ],
      "execution_count": 5,
      "outputs": [
        {
          "output_type": "stream",
          "name": "stdout",
          "text": [
            "Minimum Validation Loss: 0.1879\n"
          ]
        },
        {
          "output_type": "display_data",
          "data": {
            "image/png": "[encoded data removed]",
            "text/plain": [
              "<Figure size 432x288 with 1 Axes>"
            ]
          },
          "metadata": {
            "needs_background": "light"
          }
        }
      ]
    },
    {
      "cell_type": "markdown",
      "metadata": {
        "id": "q4OwNQa1OL-7"
      },
      "source": [
        "From the learning curves, we can see that the validation loss remains near a constant minimum even though the training loss continues to decrease. So we can see that adding dropout did prevent overfitting this time. Moreover, by making it harder for the network to fit spurious patterns, dropout may have encouraged the network to seek out more of the true patterns, possibly improving the validation loss some as well)."
      ]
    },
    {
      "cell_type": "markdown",
      "metadata": {
        "id": "RP8ZlzvpObD5"
      },
      "source": [
        "# Batch Normalization\n",
        "\n",
        "In deep learning it is a common practice to normalize the data on a similar scale before it goes to the network. We can easily achieve this through the scalers available from [sklearn.preprocessing](https://scikit-learn.org/stable/modules/classes.html#module-sklearn.preprocessing) and has the effect of preventing the network from getting unstable with the weights being shifted in proportion to how large an activation the data produces. In a same way Batch Normalization normalizes the data on a similar scale when it's inside the network, just before or after the activation function of each hidden layer. It zero-centers and normalizes each input, then shifts and scales the result using one new parameter vector for shifting and another for scaling for each layer. This makes the network learn the optimal scale and mean of each of the layer's inputs."
      ]
    },
    {
      "cell_type": "markdown",
      "metadata": {
        "id": "s-IGflO_TKl9"
      },
      "source": [
        "## Load Dataset and Preprocess"
      ]
    },
    {
      "cell_type": "code",
      "metadata": {
        "id": "b2LZmPz2HYW-"
      },
      "source": [
        "import pandas as pd\n",
        "\n",
        "concrete = pd.read_csv('/content/concrete.csv')\n",
        "df = concrete.copy()\n",
        "\n",
        "df_train = df.sample(frac=0.7, random_state=0)\n",
        "df_valid = df.drop(df_train.index)\n",
        "\n",
        "X_train = df_train.drop('CompressiveStrength', axis=1)\n",
        "X_valid = df_valid.drop('CompressiveStrength', axis=1)\n",
        "y_train = df_train['CompressiveStrength']\n",
        "y_valid = df_valid['CompressiveStrength']\n",
        "\n",
        "input_shape = [X_train.shape[1]]"
      ],
      "execution_count": 6,
      "outputs": []
    },
    {
      "cell_type": "markdown",
      "metadata": {
        "id": "N0x36pUBTiF4"
      },
      "source": [
        "## Define and fit the original Model"
      ]
    },
    {
      "cell_type": "code",
      "metadata": {
        "colab": {
          "base_uri": "https://localhost:8080/",
          "height": 314
        },
        "id": "6ZZlVeRmHyTa",
        "outputId": "5270c4a2-ab53-4766-ad46-4ae73d7176a8"
      },
      "source": [
        "model = keras.Sequential([\n",
        "    layers.Dense(512, activation='relu', input_shape=input_shape),\n",
        "    layers.Dense(512, activation='relu'),    \n",
        "    layers.Dense(512, activation='relu'),\n",
        "    layers.Dense(1),\n",
        "])\n",
        "\n",
        "model.compile(\n",
        "    optimizer='sgd', # SGD is more sensitive to differences of scale\n",
        "    loss='mae',\n",
        "    metrics=['mae'],\n",
        ")\n",
        "\n",
        "history = model.fit(\n",
        "    X_train, y_train,\n",
        "    validation_data=(X_valid, y_valid),\n",
        "    batch_size=64,\n",
        "    epochs=100,\n",
        "    verbose=0,\n",
        ")\n",
        "\n",
        "history_df = pd.DataFrame(history.history)\n",
        "history_df.loc[0:, ['loss', 'val_loss']].plot()\n",
        "print((\"Minimum Validation Loss: {:0.4f}\").format(history_df['val_loss'].min()))"
      ],
      "execution_count": 7,
      "outputs": [
        {
          "output_type": "stream",
          "name": "stdout",
          "text": [
            "Minimum Validation Loss: nan\n"
          ]
        },
        {
          "output_type": "display_data",
          "data": {
            "image/png": "[encoded data removed]",
            "text/plain": [
              "<Figure size 432x288 with 1 Axes>"
            ]
          },
          "metadata": {
            "needs_background": "light"
          }
        }
      ]
    },
    {
      "cell_type": "markdown",
      "metadata": {
        "id": "-B39dUkXU-oc"
      },
      "source": [
        "## Define and fit the Model with Batch Normalization"
      ]
    },
    {
      "cell_type": "code",
      "metadata": {
        "id": "QOFL7X3CH630"
      },
      "source": [
        "# Adding a BatchNormalization layer before each Dense layer\n",
        "model = keras.Sequential([\n",
        "    layers.BatchNormalization(input_shape=input_shape),\n",
        "    layers.Dense(512, activation='relu'),\n",
        "    layers.BatchNormalization(),\n",
        "    layers.Dense(512, activation='relu'),\n",
        "    layers.BatchNormalization(),\n",
        "    layers.Dense(512, activation='relu'),\n",
        "    layers.BatchNormalization(),\n",
        "    layers.Dense(1),\n",
        "])"
      ],
      "execution_count": 8,
      "outputs": []
    },
    {
      "cell_type": "code",
      "metadata": {
        "colab": {
          "base_uri": "https://localhost:8080/",
          "height": 314
        },
        "id": "980XtugvIHWG",
        "outputId": "cbe1ed5a-5341-433c-db64-526e3699540b"
      },
      "source": [
        "model.compile(\n",
        "    optimizer='sgd',\n",
        "    loss='mae',\n",
        "    metrics=['mae'],\n",
        ")\n",
        "\n",
        "EPOCHS = 100\n",
        "history = model.fit(\n",
        "    X_train, y_train,\n",
        "    validation_data=(X_valid, y_valid),\n",
        "    batch_size=64,\n",
        "    epochs=EPOCHS,\n",
        "    verbose=0,\n",
        ")\n",
        "\n",
        "history_df = pd.DataFrame(history.history)\n",
        "history_df.loc[0:, ['loss', 'val_loss']].plot()\n",
        "print((\"Minimum Validation Loss: {:0.4f}\").format(history_df['val_loss'].min()))"
      ],
      "execution_count": 9,
      "outputs": [
        {
          "output_type": "stream",
          "name": "stdout",
          "text": [
            "Minimum Validation Loss: 3.9774\n"
          ]
        },
        {
          "output_type": "display_data",
          "data": {
            "image/png": "[encoded data removed]",
            "text/plain": [
              "<Figure size 432x288 with 1 Axes>"
            ]
          },
          "metadata": {
            "needs_background": "light"
          }
        }
      ]
    },
    {
      "cell_type": "markdown",
      "metadata": {
        "id": "_WF5A5qMPRxH"
      },
      "source": [
        "We can see that adding batch normalization was a big improvement on the first attempt! By adaptively scaling the data as it passes through the network, batch normalization can let us train models on difficult datasets."
      ]
    }
  ]
}
