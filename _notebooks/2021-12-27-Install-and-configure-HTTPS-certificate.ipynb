{
  "nbformat": 4,
  "nbformat_minor": 0,
  "metadata": {
    "colab": {
      "name": "2021-12-27-Install-and-configure-HTTPS-certificate.ipynb",
      "provenance": []
    },
    "kernelspec": {
      "name": "python3",
      "display_name": "Python 3"
    },
    "language_info": {
      "name": "python"
    }
  },
  "cells": [
    {
      "cell_type": "markdown",
      "metadata": {
        "id": "z6gItX3A0OTA"
      },
      "source": [
        "# \"Install and configure HTTPS certificate\"\n",
        "> \"Get your site on HTTPS.\"\n",
        "\n",
        "- toc: true\n",
        "- branch: master\n",
        "- badges: true\n",
        "- comments: true\n",
        "- author: Rishiraj Acharya\n",
        "- categories: [ubuntu, setup]\n",
        "- image: images/nb/setup.jpg\n",
        "- hide: false\n",
        "- search_exclude: false"
      ]
    },
    {
      "cell_type": "markdown",
      "metadata": {
        "id": "7vclxTYl1SwC"
      },
      "source": [
        "# Installing Nginx\n",
        "```\n",
        "sudo apt update\n",
        "sudo apt install nginx\n",
        "```\n",
        "\n",
        "# Setting up virtual host\n",
        "```\n",
        "cd /etc/nginx/sites-available\n",
        "sudo rm default\n",
        "sudo nano proxy.conf\n",
        "```\n",
        "```\n",
        "server {\n",
        "       listen 80;\n",
        "       server_name <hostname>;\n",
        "\n",
        "       location / {\n",
        "               proxy_pass http://localhost:6789;\n",
        "       }\n",
        "}\n",
        "```\n",
        "```\n",
        "cd /etc/nginx/sites-enabled\n",
        "sudo rm default\n",
        "sudo ln -s /etc/nginx/sites-available/proxy.conf /etc/nginx/sites-enabled/\n",
        "```\n",
        "\n",
        "# Activating virtual host\n",
        "```\n",
        "sudo service nginx restart\n",
        "```"
      ]
    },
    {
      "cell_type": "markdown",
      "source": [
        "# Ensure that your version of snapd is up to date\n",
        "```\n",
        "sudo snap install core; sudo snap refresh core\n",
        "```\n",
        "\n",
        "# Install Certbot\n",
        "```\n",
        "sudo snap install --classic certbot\n",
        "```\n",
        "\n",
        "# Prepare the Certbot command\n",
        "```\n",
        "sudo ln -s /snap/bin/certbot /usr/bin/certbot\n",
        "```\n",
        "\n",
        "# Get and install your certificates\n",
        "```\n",
        "sudo certbot --nginx\n",
        "```\n",
        "\n",
        "# Test automatic renewal\n",
        "```\n",
        "sudo certbot renew --dry-run\n",
        "```"
      ],
      "metadata": {
        "id": "4_InfwhEdqbF"
      }
    }
  ]
}
