{
  "nbformat": 4,
  "nbformat_minor": 0,
  "metadata": {
    "colab": {
      "name": "2021-10-20-Configuring-a-Deep-Learning-system.ipynb",
      "provenance": []
    },
    "kernelspec": {
      "name": "python3",
      "display_name": "Python 3"
    },
    "language_info": {
      "name": "python"
    }
  },
  "cells": [
    {
      "cell_type": "markdown",
      "metadata": {
        "id": "z6gItX3A0OTA"
      },
      "source": [
        "# \"Configuring a Deep Learning system\"\n",
        "> \"Setting up a fresh installation of Linux for Deep Learning can be painful even for ML Experts specially for GPU users with CUDA / cuDNN. Not anymore.\"\n",
        "\n",
        "- toc: true\n",
        "- branch: master\n",
        "- badges: true\n",
        "- comments: true\n",
        "- author: Rishiraj Acharya\n",
        "- categories: [deep learning, setup]\n",
        "- image: images/nb/setup.jpg\n",
        "- hide: false\n",
        "- search_exclude: false"
      ]
    },
    {
      "cell_type": "markdown",
      "metadata": {
        "id": "7vclxTYl1SwC"
      },
      "source": [
        "# For both CPU / GPU users\n",
        "\n",
        "`wget https://repo.anaconda.com/miniconda/Miniconda3-py39_4.9.2-Linux-x86_64.sh`  \n",
        "`bash Miniconda3-py39_4.9.2-Linux-x86_64.sh`  \n",
        "\n",
        "**Reboot. Test your installation using the command: `conda list`**  \n",
        "\n",
        "`sudo apt-get update`  \n",
        "`sudo apt-get upgrade`  \n",
        "`sudo apt-get install build-essential cmake unzip pkg-config`  \n",
        "`sudo apt-get install gcc-6 g++-6`  \n",
        "`sudo apt-get install screen`  \n",
        "`sudo apt-get install libxmu-dev libxi-dev libglu1-mesa libglu1-mesa-dev`  \n",
        "`sudo apt-get install libjpeg-dev libpng-dev libtiff-dev`  \n",
        "`sudo apt-get install libavcodec-dev libavformat-dev libswscale-dev libv4l-dev`  \n",
        "`sudo apt-get install libxvidcore-dev libx264-dev`  \n",
        "`sudo apt-get install libopenblas-dev libatlas-base-dev liblapack-dev gfortran`  \n",
        "`sudo apt-get install libhdf5-serial-dev`  \n",
        "`sudo apt-get install python3-dev python3-tk python-imaging-tk`  \n",
        "`sudo apt-get install libgtk-3-dev`  "
      ]
    },
    {
      "cell_type": "markdown",
      "metadata": {
        "id": "sHz-j0s_1a3N"
      },
      "source": [
        "# Only for GPU users\n",
        "\n",
        "**Add NVIDIA package repositories**  \n",
        "`wget https://developer.download.nvidia.com/compute/cuda/repos/ubuntu1804/x86_64/cuda-ubuntu1804.pin`  \n",
        "`sudo mv cuda-ubuntu1804.pin /etc/apt/preferences.d/cuda-repository-pin-600`  \n",
        "`sudo apt-key adv --fetch-keys https://developer.download.nvidia.com/compute/cuda/repos/ubuntu1804/x86_64/7fa2af80.pub`  \n",
        "`sudo add-apt-repository \"deb https://developer.download.nvidia.com/compute/cuda/repos/ubuntu1804/x86_64/ /\"`  \n",
        "`sudo apt-get update`  \n",
        "\n",
        "`wget http://developer.download.nvidia.com/compute/machine-learning/repos/ubuntu1804/x86_64/nvidia-machine-learning-repo-ubuntu1804_1.0.0-1_amd64.deb`  \n",
        "\n",
        "`sudo apt install ./nvidia-machine-learning-repo-ubuntu1804_1.0.0-1_amd64.deb`  \n",
        "`sudo apt-get update`  \n",
        "\n",
        "`wget https://developer.download.nvidia.com/compute/machine-learning/repos/ubuntu1804/x86_64/libnvinfer7_7.1.3-1+cuda11.0_amd64.deb`  \n",
        "`sudo apt install ./libnvinfer7_7.1.3-1+cuda11.0_amd64.deb`  \n",
        "`sudo apt-get update`  \n",
        "\n",
        "**Install development and runtime libraries (~4GB)**  \n",
        "```\n",
        "sudo apt-get install --no-install-recommends \\\n",
        "  cuda-11-0 \\\n",
        "  libcudnn8=8.0.4.30-1+cuda11.0  \\\n",
        "  libcudnn8-dev=8.0.4.30-1+cuda11.0\n",
        "```\n",
        "\n",
        "**Reboot. Check that GPUs are visible using the command: `nvidia-smi`**  \n",
        "\n",
        "**Install TensorRT. Requires that libcudnn8 is installed above.**  \n",
        "```\n",
        "sudo apt-get install -y --no-install-recommends libnvinfer7=7.1.3-1+cuda11.0 \\\n",
        "  libnvinfer-dev=7.1.3-1+cuda11.0 \\\n",
        "  libnvinfer-plugin7=7.1.3-1+cuda11.0\n",
        "```"
      ]
    },
    {
      "cell_type": "markdown",
      "metadata": {
        "id": "jXyaam6y1mI2"
      },
      "source": [
        "# For both CPU / GPU users\n",
        "\n",
        "`wget https://bootstrap.pypa.io/get-pip.py`  \n",
        "`sudo python3 get-pip.py`  \n",
        "`pip install numpy`  \n",
        "`pip install tensorflow`  \n",
        "`pip install opencv-contrib-python`  \n",
        "`pip install scikit-image`  \n",
        "`pip install pillow`  \n",
        "`pip install imutils`  \n",
        "`pip install scikit-learn`  \n",
        "`pip install matplotlib`  \n",
        "`pip install progressbar2`  \n",
        "`pip install beautifulsoup4`  \n",
        "`pip install pandas`  "
      ]
    }
  ]
}